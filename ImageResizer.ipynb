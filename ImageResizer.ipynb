{
  "nbformat": 4,
  "nbformat_minor": 0,
  "metadata": {
    "colab": {
      "provenance": []
    },
    "kernelspec": {
      "name": "python3",
      "display_name": "Python 3"
    },
    "language_info": {
      "name": "python"
    }
  },
  "cells": [
    {
      "cell_type": "code",
      "execution_count": null,
      "metadata": {
        "id": "cG9O38g82Xc9"
      },
      "outputs": [],
      "source": [
        "import cv2 \n",
        "from google.colab.patches import cv2_imshow\n",
        "from google.colab import drive\n",
        "from os import listdir\n",
        "import pandas as pd\n",
        "import glob\n"
      ]
    },
    {
      "cell_type": "code",
      "source": [
        "path1 = 'drive/MyDrive/CE_Capstone_QA_2022-2023/Dataset(320*320)'\n",
        "path2 = 'CroppedImages'\n",
        "\n",
        "resizeScale = 80\n",
        "pathName = str(resizeScale) + 'X' + str(resizeScale)\n"
      ],
      "metadata": {
        "id": "tEngBaR23K4z"
      },
      "execution_count": null,
      "outputs": []
    },
    {
      "cell_type": "code",
      "source": [
        "%cd drive/MyDrive/CE_Capstone_QA_2022-2023/Dataset(320*320)"
      ],
      "metadata": {
        "colab": {
          "base_uri": "https://localhost:8080/"
        },
        "id": "xf3Ma0Tn3vzP",
        "outputId": "ce2a48db-e51a-4169-e2e6-ea05f30abde9"
      },
      "execution_count": null,
      "outputs": [
        {
          "output_type": "stream",
          "name": "stdout",
          "text": [
            "/content/drive/MyDrive/CE_Capstone_QA_2022-2023/Dataset(320*320)\n"
          ]
        }
      ]
    },
    {
      "cell_type": "code",
      "source": [
        "imgNameList = listdir()\n"
      ],
      "metadata": {
        "id": "mkRIBs8y3-N2"
      },
      "execution_count": null,
      "outputs": []
    },
    {
      "cell_type": "code",
      "source": [
        "resizedImages = []"
      ],
      "metadata": {
        "id": "p02YmFCz4AlS"
      },
      "execution_count": null,
      "outputs": []
    },
    {
      "cell_type": "code",
      "source": [
        "for n in imgNameList:\n",
        "  i = cv2.imread(n)\n",
        "  \n",
        "  if i is not None:\n",
        "    im = cv2.resize(i,(resizeScale,resizeScale), interpolation = cv2.INTER_AREA)\n",
        "    resizedImages.append(im)\n"
      ],
      "metadata": {
        "id": "yheh1RJI4Fve"
      },
      "execution_count": null,
      "outputs": []
    },
    {
      "cell_type": "code",
      "source": [
        "%cd ..\n"
      ],
      "metadata": {
        "colab": {
          "base_uri": "https://localhost:8080/"
        },
        "id": "ZRymZEd24r4o",
        "outputId": "be0b2c33-21fd-4f15-f016-06e012c6d25a"
      },
      "execution_count": null,
      "outputs": [
        {
          "output_type": "stream",
          "name": "stdout",
          "text": [
            "/content/drive/MyDrive/CE_Capstone_QA_2022-2023\n"
          ]
        }
      ]
    },
    {
      "cell_type": "code",
      "source": [
        "%cd ResizedImages"
      ],
      "metadata": {
        "colab": {
          "base_uri": "https://localhost:8080/"
        },
        "id": "cOh5VuSy4tP4",
        "outputId": "44abe516-18b7-4c4b-a17e-f68f2430d79c"
      },
      "execution_count": null,
      "outputs": [
        {
          "output_type": "stream",
          "name": "stdout",
          "text": [
            "/content/drive/MyDrive/CE_Capstone_QA_2022-2023/ResizedImages\n"
          ]
        }
      ]
    },
    {
      "cell_type": "code",
      "source": [
        "%mkdir $pathName\n"
      ],
      "metadata": {
        "id": "dbrxPTRV5IEH"
      },
      "execution_count": null,
      "outputs": []
    },
    {
      "cell_type": "code",
      "source": [
        "%cd $pathName"
      ],
      "metadata": {
        "colab": {
          "base_uri": "https://localhost:8080/"
        },
        "id": "GIbvAove6pP_",
        "outputId": "51083961-2cf4-4eac-861f-13b4ca0d3019"
      },
      "execution_count": null,
      "outputs": [
        {
          "output_type": "stream",
          "name": "stdout",
          "text": [
            "/content/drive/MyDrive/CE_Capstone_QA_2022-2023/ResizedImages/80X80\n"
          ]
        }
      ]
    },
    {
      "cell_type": "code",
      "source": [
        "for i, img in enumerate(resizedImages):\n",
        "    cv2.imwrite('image_{}.jpg'.format(i), img)"
      ],
      "metadata": {
        "id": "ekB84-eQ5Mcs"
      },
      "execution_count": null,
      "outputs": []
    }
  ]
}