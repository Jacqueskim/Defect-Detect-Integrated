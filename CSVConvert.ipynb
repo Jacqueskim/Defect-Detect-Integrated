{
  "nbformat": 4,
  "nbformat_minor": 0,
  "metadata": {
    "colab": {
      "provenance": []
    },
    "kernelspec": {
      "name": "python3",
      "display_name": "Python 3"
    },
    "language_info": {
      "name": "python"
    }
  },
  "cells": [
    {
      "cell_type": "code",
      "execution_count": null,
      "metadata": {
        "id": "6i2nf8hk0Nhs"
      },
      "outputs": [],
      "source": [
        "import pandas as pd\n",
        "import numpy as np\n",
        "\n",
        "\n",
        "\n"
      ]
    },
    {
      "cell_type": "code",
      "source": [
        "csv = pd.read_csv('Large_Dataset.csv', delimiter = ',')\n",
        "#print(csv)"
      ],
      "metadata": {
        "id": "qusqCAFo1Vk4"
      },
      "execution_count": null,
      "outputs": []
    },
    {
      "cell_type": "code",
      "source": [
        "def swap_columns(df, col1, col2):\n",
        "    col_list = list(df.columns)\n",
        "    x, y = col_list.index(col1), col_list.index(col2)\n",
        "    col_list[y], col_list[x] = col_list[x], col_list[y]\n",
        "    df = df[col_list]\n",
        "    return df\n",
        "\n",
        "    \n",
        "\n",
        "csv['label_name'] = csv['label_name'].replace(['Almond'], 1)\n",
        "csv = swap_columns(csv, \"label_name\",\"image_name\")\n",
        "csv = swap_columns(csv, \"bbox_x\",\"label_name\")\n",
        "csv = swap_columns(csv, \"bbox_y\",\"bbox_width\")\n",
        "csv = swap_columns(csv, \"bbox_y\",\"bbox_height\")\n",
        "csv = swap_columns(csv, \"bbox_y\",\"bbox_x\")\n",
        "\n",
        "\n",
        "upperCornerX = []\n",
        "upperCornerY = []\n",
        "for i in range(len(csv['bbox_width'])):\n",
        "  upperCornerX.append(csv['bbox_width'][i] + csv['bbox_x'][i])\n",
        "  upperCornerY.append(csv['bbox_height'][i] + csv['bbox_y'][i])\n",
        "\n",
        "csv.insert(6,'x1',upperCornerX)\n",
        "csv.insert(7,'y1',upperCornerY)\n",
        "\n",
        "\n",
        "\n"
      ],
      "metadata": {
        "id": "so35HZGY1u9i"
      },
      "execution_count": null,
      "outputs": []
    },
    {
      "cell_type": "code",
      "source": [
        "csv = csv.rename(columns={\"image_name\":\"img_name\",\"label_name\":\"label\",\"bbox_width\":\"width\",\"bbox_height\":\"height\",\"bbox_x\":\"x0\",\"bbox_y\":\"y0\"})\n",
        "\n",
        "\n"
      ],
      "metadata": {
        "id": "H5rgRJDC7nOp"
      },
      "execution_count": null,
      "outputs": []
    },
    {
      "cell_type": "code",
      "source": [
        "csv = csv.drop(columns = [\"image_width\",\"image_height\"])\n"
      ],
      "metadata": {
        "id": "mbYXBJ3B8Rpk"
      },
      "execution_count": null,
      "outputs": []
    },
    {
      "cell_type": "code",
      "source": [
        "csv['label'] = csv['label'].astype(str)\n",
        "csv['width'] = csv['width'].astype(str)\n",
        "csv['height'] = csv['height'].astype(str)\n",
        "csv['x0'] = csv['x0'].astype(str)\n",
        "csv['y0'] = csv['y0'].astype(str)\n",
        "csv['x1'] = csv['x1'].astype(str)\n",
        "csv['y1'] = csv['y1'].astype(str)\n",
        "\n",
        "csv = csv.groupby('img_name',as_index=False).agg({'img_name':'first','label':', '.join,'width':', '.join,'height':', '.join,'x0':', '.join,'y0':', '.join,'x1':', '.join,'y1':', '.join})\n",
        "\n",
        "\n",
        "csv['label'] = \"[\"+csv['label']+\"]\"\n",
        "csv['width'] = \"[\"+csv['width']+\"]\"\n",
        "csv['height'] = \"[\"+csv['height']+\"]\"\n",
        "csv['x0'] = \"[\"+csv['x0']+\"]\"\n",
        "csv['y0'] = \"[\"+csv['y0']+\"]\"\n",
        "csv['x1'] = \"[\"+csv['x1']+\"]\"\n",
        "csv['y1'] = \"[\"+csv['y1']+\"]\"\n",
        "print(csv)"
      ],
      "metadata": {
        "colab": {
          "base_uri": "https://localhost:8080/"
        },
        "id": "AhKUdBU4x6Ws",
        "outputId": "07ed53d0-18b2-44a5-a626-cdc24d5a0412"
      },
      "execution_count": null,
      "outputs": [
        {
          "output_type": "stream",
          "name": "stdout",
          "text": [
            "          img_name label width height    x0    y0    x1    y1\n",
            "0    Image_141.png   [1]  [10]   [18]  [40]  [74]  [50]  [92]\n",
            "1    Image_142.png   [1]   [9]   [18]  [40]  [63]  [49]  [81]\n",
            "2    Image_143.png   [1]   [9]   [19]  [39]  [52]  [48]  [71]\n",
            "3    Image_144.png   [1]   [8]   [19]  [40]  [41]  [48]  [60]\n",
            "4    Image_145.png   [1]  [10]   [20]  [39]  [29]  [49]  [49]\n",
            "..             ...   ...   ...    ...   ...   ...   ...   ...\n",
            "141   Image_95.png   [1]  [14]    [9]  [44]  [46]  [58]  [55]\n",
            "142   Image_96.png   [1]  [14]    [9]  [44]  [34]  [58]  [43]\n",
            "143   Image_97.png   [1]  [14]    [9]  [44]  [22]  [58]  [31]\n",
            "144   Image_98.png   [1]  [14]   [10]  [43]  [10]  [57]  [20]\n",
            "145   Image_99.png   [1]  [16]    [9]  [43]   [0]  [59]   [9]\n",
            "\n",
            "[146 rows x 8 columns]\n"
          ]
        }
      ]
    },
    {
      "cell_type": "code",
      "source": [
        "from google.colab import drive\n",
        "drive.mount('drive',force_remount=False)\n",
        "csv.to_csv('data.csv')\n",
        "!cp data.csv \"drive/My Drive/CE Capstone QA 2022-2023/Annotations\"\n",
        "\n",
        "\n"
      ],
      "metadata": {
        "id": "jPz7AHAZ8qIe",
        "colab": {
          "base_uri": "https://localhost:8080/"
        },
        "outputId": "33efef00-89a6-48ec-cdfe-5d5a2ebf2e4c"
      },
      "execution_count": null,
      "outputs": [
        {
          "output_type": "stream",
          "name": "stdout",
          "text": [
            "Drive already mounted at drive; to attempt to forcibly remount, call drive.mount(\"drive\", force_remount=True).\n"
          ]
        }
      ]
    }
  ]
}