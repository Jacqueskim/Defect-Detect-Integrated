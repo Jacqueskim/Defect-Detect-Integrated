{
  "cells": [
    {
      "cell_type": "code",
      "execution_count": null,
      "metadata": {
        "id": "1uvBrX4M7jN-"
      },
      "outputs": [],
      "source": [
        "import cv2 \n",
        "import numpy as np\n",
        "from google.colab.patches import cv2_imshow\n",
        "from scipy.ndimage import gaussian_filter\n",
        "from google.colab import drive\n",
        "\n",
        "import os\n",
        "import pandas as pd\n",
        "import glob\n",
        "import random\n",
        "import math\n",
        "import csv\n",
        "import shutil\n",
        "\n"
      ]
    },
    {
      "cell_type": "code",
      "execution_count": null,
      "metadata": {
        "id": "7DQe6QKUD4Qa"
      },
      "outputs": [],
      "source": [
        "outputResolution  = (168,224)\n",
        "minScale = .75\n",
        "maxScale = 1\n",
        "trainingSize = 30\n",
        "testingSize = 3\n",
        "dataset_name = \"PINTOBEANS_PEBBLES_PISTACHIO2\""
      ]
    },
    {
      "cell_type": "code",
      "execution_count": null,
      "metadata": {
        "id": "kj68lrbP7s1Z"
      },
      "outputs": [],
      "source": [
        "directoryPath = \"/content/drive/MyDrive/CE_Capstone_QA_2022-2023/DataCreation\"\n",
        "defectivePath = os.path.join(directoryPath,\"defective\")\n",
        "goodPath = os.path.join(directoryPath,\"good\")\n",
        "backgroundPath = os.path.join(directoryPath,\"background_all\")\n",
        "syntheticPath = os.path.join(directoryPath,\"synthetic_images\")\n",
        "datasetPath = os.path.join(directoryPath,dataset_name)\n",
        "out_folder_test = os.path.join(datasetPath, 'test')\n",
        "out_folder_train = os.path.join(datasetPath, 'train')\n",
        "out_folder_processed = os.path.join(datasetPath, 'processed')\n"
      ]
    },
    {
      "cell_type": "code",
      "source": [
        "if os.path.exists(datasetPath):\n",
        "  print('Output folders exist. Delete!')\n",
        "  !rm -r $datasetPath\n",
        "  !mkdir $datasetPath\n",
        "  !mkdir $out_folder_test\n",
        "  !mkdir $out_folder_train\n",
        "  !mkdir $out_folder_processed\n",
        "else:\n",
        "  !mkdir $datasetPath\n",
        "  !mkdir $out_folder_test\n",
        "  !mkdir $out_folder_train\n",
        "  !mkdir $out_folder_processed"
      ],
      "metadata": {
        "id": "x1TEshv_lp38",
        "colab": {
          "base_uri": "https://localhost:8080/"
        },
        "outputId": "5a394707-d389-452e-9ab0-e05f3bab8db5"
      },
      "execution_count": null,
      "outputs": [
        {
          "output_type": "stream",
          "name": "stdout",
          "text": [
            "Output folders exist. Delete!\n"
          ]
        }
      ]
    },
    {
      "cell_type": "code",
      "source": [
        "np.set_string_function(lambda x: repr(x).replace('(', '').replace(')', '')\n",
        "                       .replace('array', '').replace(\"       \", ' '), repr=False)"
      ],
      "metadata": {
        "id": "cNlMmNnZl9JQ"
      },
      "execution_count": null,
      "outputs": []
    },
    {
      "cell_type": "code",
      "source": [
        "def image_transform_opencv(img, brightness_range=(0.95, 1.05), saturation_range=(0.85, 1.15),\n",
        "                           contrast_range=(0.85, 1.15), hue_range=(-0.2, 0.2), grayscale_prob=0.15,\n",
        "                           blur_kernel_size=(5, 5), blur_sigma_range=(0.5, 5),noise_stddev=(.3,.75)):\n",
        "    \n",
        "    def adjust_brightness_contrast_hue_saturation(img, b, c, h, s):\n",
        "        hsv = cv2.cvtColor(img, cv2.COLOR_BGR2HSV).astype(np.float32)\n",
        "        hsv[:, :, 0] = (hsv[:, :, 0] + h * 180) % 180\n",
        "        hsv[:, :, 1] *= s\n",
        "        hsv[:, :, 2] *= b\n",
        "        hsv = np.clip(hsv, 0, 255)\n",
        "        img = cv2.cvtColor(hsv.astype(np.uint8), cv2.COLOR_HSV2BGR)\n",
        "        img = cv2.addWeighted(img, c, img, 0, -128 * (1 - c))\n",
        "        return img\n",
        "\n",
        "    def apply_grayscale(img, prob):\n",
        "        if np.random.rand() < prob:\n",
        "            gray = cv2.cvtColor(img, cv2.COLOR_BGR2GRAY)\n",
        "            img = cv2.cvtColor(gray, cv2.COLOR_GRAY2BGR)\n",
        "        return img\n",
        "\n",
        "    def apply_gaussian_blur(img, kernel_size, sigma_range):\n",
        "        sigma = np.random.uniform(sigma_range[0], sigma_range[1])\n",
        "        return cv2.GaussianBlur(img, kernel_size, sigma)\n",
        "    def apply_gaussian_noise(img, stddev):\n",
        "        noise = np.random.normal(0, stddev, img.shape).astype(np.uint8)\n",
        "        return cv2.add(img, noise)\n",
        "\n",
        "    brightness = np.random.uniform(brightness_range[0], brightness_range[1])\n",
        "    contrast = np.random.uniform(contrast_range[0], contrast_range[1])\n",
        "    hue = np.random.uniform(hue_range[0], hue_range[1])\n",
        "    saturation = np.random.uniform(saturation_range[0], saturation_range[1])\n",
        "    noise = np.random.uniform(noise_stddev[0], noise_stddev[1])\n",
        "\n",
        "    img = apply_gaussian_noise(img, noise)\n",
        "    img = adjust_brightness_contrast_hue_saturation(img, brightness, contrast, hue, saturation)\n",
        "    img = apply_grayscale(img, grayscale_prob)\n",
        "    img = apply_gaussian_blur(img, blur_kernel_size, blur_sigma_range)\n",
        "    \n",
        "\n",
        "    return img"
      ],
      "metadata": {
        "id": "ZKFtpTBmu8Di"
      },
      "execution_count": null,
      "outputs": []
    },
    {
      "cell_type": "code",
      "source": [
        "\n",
        "\n",
        "def Jitter_image(img, brightness_factor=0.1, contrast_factor=0.1, saturation_factor=0.1, noise_stddev=10, alpha=36, sigma=4):\n",
        "    def adjust_brightness_contrast_saturation(img, b, c, s):\n",
        "        hsv = cv2.cvtColor(img, cv2.COLOR_BGR2HSV)\n",
        "        h, s_channel, v = cv2.split(hsv)\n",
        "        s_channel = cv2.addWeighted(s_channel, 1 + s, s_channel, 0, 0)\n",
        "        v = cv2.addWeighted(v, 1 + b, v, 0, 0)\n",
        "        v = cv2.addWeighted(v, 1 + c, v, -128 * (1 + c), 0)\n",
        "        return cv2.cvtColor(cv2.merge([h, s_channel, v]), cv2.COLOR_HSV2BGR)\n",
        "\n",
        "  \n",
        "\n",
        "    b_factor = 1 + brightness_factor * (np.random.rand() * 2 - 1)\n",
        "    c_factor = 1 + contrast_factor * (np.random.rand() * 2 - 1)\n",
        "    s_factor = saturation_factor * (np.random.rand() * 2 - 1)\n",
        "    img = adjust_brightness_contrast_saturation(img, b_factor, c_factor, s_factor)\n",
        "\n",
        "   # noise = np.random.normal(0, noise_stddev, img.shape).astype(np.uint8)\n",
        "   # img = cv2.add(img, noise)\n",
        "\n",
        "   # img = elastic_transform(img, alpha, sigma)\n",
        "\n",
        "    return img"
      ],
      "metadata": {
        "id": "PHRyKyfzHEr5"
      },
      "execution_count": null,
      "outputs": []
    },
    {
      "cell_type": "code",
      "source": [
        "def trim_black_border(image, border_color=(0, 0, 0)):\n",
        "    mask = np.all(image == border_color, axis=-1)\n",
        "\n",
        "    rows = np.flatnonzero(np.any(~mask, axis=1))\n",
        "    cols = np.flatnonzero(np.any(~mask, axis=0))\n",
        "\n",
        "    if rows.size == 0 or cols.size == 0:\n",
        "        return image\n",
        "\n",
        "    return image[rows.min():rows.max()+1, cols.min():cols.max()+1]"
      ],
      "metadata": {
        "id": "wMElresqdrLd"
      },
      "execution_count": null,
      "outputs": []
    },
    {
      "cell_type": "code",
      "execution_count": null,
      "metadata": {
        "id": "1h0GR5E39oFA"
      },
      "outputs": [],
      "source": [
        "#@ ImageLoader\n",
        "def loadImages(path, reshape, trim, removeBG):\n",
        "  os.chdir(path)\n",
        "  images = []\n",
        "  for image_file in glob.glob(\"*.png\") + glob.glob(\"*.jpg\"):\n",
        "    # Read the image using OpenCV\n",
        "    img = cv2.imread(image_file)\n",
        "    if removeBG == True and  not \"no_bg\" in image_file:\n",
        "      img = remove_background(img)\n",
        "    if reshape == True:\n",
        "      img = cv2.resize(img, outputResolution)\n",
        "    if trim:\n",
        "      img = trim_black_border(img)\n",
        "    # Append the image to the list\n",
        "    images.append(img)\n",
        "   # cv2_imshow(img)\n",
        "    #print(img.shape)\n",
        "  return images"
      ]
    },
    {
      "cell_type": "code",
      "execution_count": null,
      "metadata": {
        "id": "gc4t0Vem-5jY"
      },
      "outputs": [],
      "source": [
        "def getCroppedImg(img, margin_l = 15, margin_b = 15):\n",
        "  cropList = []\n",
        "  blurred = cv2.GaussianBlur(img,(11,11),0) \n",
        "  # convert the image to grayscale\n",
        "  gray = cv2.cvtColor(blurred, cv2.COLOR_BGR2GRAY)\n",
        "  # apply thresholding on the gray image to create a binary image\n",
        "  ret,thresh = cv2.threshold(gray,127,255,0)\n",
        "  # find the contours\n",
        "  contours, hierarchy = cv2.findContours(thresh, cv2.RETR_EXTERNAL, cv2.CHAIN_APPROX_SIMPLE)\n",
        "  #x = cv2.drawContours(img, contours, -1, (0, 255, 0), 3)\n",
        "  #cv2_imshow(x)\n",
        "  for i in range(len(contours)):\n",
        "  # take the first contour\n",
        "    cnt = contours[i]\n",
        "  # compute the bounding rectangle of the contour\n",
        "    x,y,w,h = cv2.boundingRect(cnt)\n",
        "    area = w*h\n",
        "    if(area < 100):\n",
        "      break\n",
        "    cropRadius = (w+h)//2\n",
        "    centerX = x + w//2\n",
        "    centerY = y + h//2\n",
        "\n",
        "    lowX = centerX-cropRadius\n",
        "    highX = centerX+cropRadius\n",
        "    lowY = centerY-cropRadius\n",
        "    highY = centerY+cropRadius\n",
        "    \n",
        "    if(lowX < 0):\n",
        "      highX = 2*cropRadius - 1\n",
        "      lowX = 0\n",
        "    if(highX > img.shape[1]-1):\n",
        "      lowX = img.shape[1]-1 - 2*cropRadius\n",
        "      highX = img.shape[1]-1\n",
        "\n",
        "    if(lowY < 0):\n",
        "      highY = 2*cropRadius - 1\n",
        "      lowY = 0\n",
        "    if(highY > img.shape[0]-1):\n",
        "      #print(highY - img.shape[0]-1)\n",
        "      lowY = img.shape[0]-1 - 2*cropRadius\n",
        "      highY = img.shape[0]-1\n",
        "    bottom_L = x-margin_l\n",
        "    bottom_B = y - margin_b\n",
        "    crop = img[lowY:highY,lowX:highX]\n",
        "    cropList.append(crop)"
      ]
    },
    {
      "cell_type": "code",
      "execution_count": null,
      "metadata": {
        "id": "trZ95gDx-vmJ"
      },
      "outputs": [],
      "source": [
        "def remove_background(img):\n",
        "   # alpha_channel = np.ones(img.shape[:2], dtype=np.uint8) * 255\n",
        "  #  img = cv2.merge((img, alpha_channel))\n",
        "     # Convert the image to grayscale\n",
        "    gray = cv2.cvtColor(img, cv2.COLOR_BGR2GRAY)\n",
        "    # Apply Gaussian Blur to reduce noise\n",
        "    blur = cv2.GaussianBlur(gray, (5,5), 0)\n",
        "    # Threshold the image to create a binary image\n",
        "    thresh = cv2.threshold(blur, 0, 255, cv2.THRESH_BINARY+cv2.THRESH_OTSU)[1]\n",
        "    # Erode the binary image to make the contours more forgiving\n",
        "    kernel = np.ones((3,3), np.uint8)\n",
        "    # thresh = cv2.erode(thresh, kernel, iterations=1)\n",
        "    # Dilate the binary image to increase the size of the object\n",
        "    thresh = cv2.dilate(thresh, kernel, iterations=1)\n",
        "    # Find contours in the binary image\n",
        "    contours, hierarchy = cv2.findContours(thresh, cv2.RETR_EXTERNAL, cv2.CHAIN_APPROX_SIMPLE)\n",
        "    # Find the largest contour\n",
        "    largest_contour = max(contours, key=cv2.contourArea)\n",
        "    # Create a mask with the same size as the image\n",
        "    mask = np.zeros_like(img)\n",
        "    # Draw the largest contour on the mask\n",
        "    cv2.drawContours(mask, [largest_contour], -1, (255,255,255), -1)\n",
        "    # Create a black background\n",
        "    background = np.zeros_like(img)\n",
        "   # background[..., 3] = 0 \n",
        "    # Use bitwise_and to remove the background outside the contour\n",
        "    result = cv2.bitwise_and(img, mask) + background\n",
        "    # Apply Gaussian Blur to add feathering and fade to the borders\n",
        "    #result = cv2.GaussianBlur(result, (3,3), 0)\n",
        "\n",
        "    return result\n",
        "\n",
        "    "
      ]
    },
    {
      "cell_type": "code",
      "source": [
        "def distance(point1, point2):\n",
        "    return ((point1[0] - point2[0])**2 + (point1[1] - point2[1])**2)**0.5\n"
      ],
      "metadata": {
        "id": "rziCak2lWILd"
      },
      "execution_count": null,
      "outputs": []
    },
    {
      "cell_type": "code",
      "source": [
        "def scale_image(image):\n",
        "    scale = random.uniform(minScale, maxScale);\n",
        "    rows, cols, _ = image.shape\n",
        "    new_rows = int(rows * scale)\n",
        "    new_cols = int(cols * scale)\n",
        "\n",
        "    # Scale the image using the specified factors\n",
        "    scaled_image = cv2.resize(image, (new_cols, new_rows))\n",
        "\n",
        "    return scaled_image"
      ],
      "metadata": {
        "id": "ubwRYPIbiYuH"
      },
      "execution_count": null,
      "outputs": []
    },
    {
      "cell_type": "code",
      "execution_count": null,
      "metadata": {
        "id": "pP6qiZDe_nhP"
      },
      "outputs": [],
      "source": [
        "def paste_synthetic_image(bg, image, position_list, min_distance=50, max_iterations=50):\n",
        "    bg = bg.copy()\n",
        "    rows, cols, imd = image.shape\n",
        "    angle = random.uniform(0, 180)  # Random angle between 0 and 180 degrees\n",
        "\n",
        "    # Calculate the new size of the rotated image\n",
        "    radians = math.radians(angle)\n",
        "    sin = abs(math.sin(radians))\n",
        "    cos = abs(math.cos(radians))\n",
        "    new_rows = int((rows * cos) + (cols * sin))\n",
        "    new_cols = int((rows * sin) + (cols * cos))\n",
        "\n",
        "    # Get the rotation matrix with the updated center\n",
        "    M = cv2.getRotationMatrix2D((cols // 2, rows // 2), angle, 1)\n",
        "\n",
        "    # Update the translation part of the rotation matrix\n",
        "    M[0, 2] += (new_cols - cols) // 2\n",
        "    M[1, 2] += (new_rows - rows) // 2\n",
        "\n",
        "    # Rotate the image using the rotation matrix\n",
        "    image = cv2.warpAffine(image, M, (new_cols, new_rows))\n",
        "    \n",
        "    image = scale_image(image);\n",
        "    \n",
        "    rows, cols, imd = image.shape\n",
        "    pos_len = len(position_list)\n",
        "    added = False\n",
        "    for _ in range(max_iterations):\n",
        "      pRow, pCol = random.randint(0, bg.shape[0] - rows), random.randint(0, bg.shape[1] - cols), \n",
        "      if pos_len == 0:\n",
        "        added = True\n",
        "        position_list.append((pRow + rows//2, pCol + cols// 2))\n",
        "        break\n",
        "\n",
        "\n",
        "      if not any([distance((pRow + rows//2, pCol + cols// 2), center) < min_distance for center in position_list]):\n",
        "        added = True\n",
        "        position_list.append((pRow + rows//2, pCol + cols// 2))\n",
        "        break\n",
        "\n",
        "\n",
        "    if (pos_len == len(position_list) or added == False):\n",
        "      print(\"could not find match\")\n",
        "      return bg, None, None, None, None\n",
        "   \n",
        "    good_mask = cv2.cvtColor(image, cv2.COLOR_BGR2GRAY)\n",
        "    _, good_mask = cv2.threshold(good_mask, 1, 255, cv2.THRESH_BINARY)\n",
        "    \n",
        "    # Create a mask for the image\n",
        "    mask = cv2.merge((good_mask, good_mask, good_mask))\n",
        "\n",
        "    # Paste the image onto the background\n",
        "    bg[pRow:pRow + rows, pCol:pCol + cols] = cv2.bitwise_and(image, mask) + cv2.bitwise_and(bg[pRow:pRow + rows, pCol:pCol + cols], cv2.bitwise_not(mask))\n",
        "\n",
        "    return bg, pCol, pRow, pCol + cols, pRow + rows"
      ]
    },
    {
      "cell_type": "code",
      "source": [
        "def resize_if_over_threshold(img, size_threshold, resize_factor=0.35):\n",
        "    \n",
        "    # Get the image size (height, width)\n",
        "    height, width, _ = img.shape\n",
        "\n",
        "    # Check if the image size is over the threshold\n",
        "    if height * width > size_threshold:\n",
        "        # Resize the image\n",
        "        new_height = int(height * resize_factor)\n",
        "        new_width = int(width * resize_factor)\n",
        "        resized_img = cv2.resize(img, (new_width, new_height))\n",
        "        cv2_imshow(resized_img)\n",
        "        return resized_img\n",
        "\n",
        "    # If the image size is not over the threshold, return the original image\n",
        "    return img"
      ],
      "metadata": {
        "id": "5RXLzv7pMvxz"
      },
      "execution_count": null,
      "outputs": []
    },
    {
      "cell_type": "code",
      "execution_count": null,
      "metadata": {
        "id": "1qxxic0C-jox"
      },
      "outputs": [],
      "source": [
        "defectiveList = loadImages(defectivePath, False, True, True)\n",
        "goodList = loadImages(goodPath, False, True, True)\n",
        "bgList = loadImages(backgroundPath,True, False,False)\n"
      ]
    },
    {
      "cell_type": "code",
      "source": [
        "defectiveList = [resize_if_over_threshold(img, 2000) for img in defectiveList]"
      ],
      "metadata": {
        "colab": {
          "base_uri": "https://localhost:8080/",
          "height": 363
        },
        "id": "ztwHrYTqK8JR",
        "outputId": "df0c3e03-be60-4e84-95b6-77f0c3c9b1a1"
      },
      "execution_count": null,
      "outputs": [
        {
          "output_type": "display_data",
          "data": {
            "text/plain": [
              "<PIL.Image.Image image mode=RGB size=28x34 at 0x7EFFFA452560>"
            ],
            "image/png": "[encoded data removed]"
          },
          "metadata": {}
        },
        {
          "output_type": "display_data",
          "data": {
            "text/plain": [
              "<PIL.Image.Image image mode=RGB size=48x37 at 0x7EFFFA6448B0>"
            ],
            "image/png": "[encoded data removed]"
          },
          "metadata": {}
        },
        {
          "output_type": "display_data",
          "data": {
            "text/plain": [
              "<PIL.Image.Image image mode=RGB size=37x43 at 0x7EFFFA6448B0>"
            ],
            "image/png": "[encoded data removed]"
          },
          "metadata": {}
        },
        {
          "output_type": "display_data",
          "data": {
            "text/plain": [
              "<PIL.Image.Image image mode=RGB size=36x37 at 0x7EFFFA6448B0>"
            ],
            "image/png": "[encoded data removed]"
          },
          "metadata": {}
        },
        {
          "output_type": "display_data",
          "data": {
            "text/plain": [
              "<PIL.Image.Image image mode=RGB size=24x45 at 0x7EFFFA6448B0>"
            ],
            "image/png": "[encoded data removed]"
          },
          "metadata": {}
        },
        {
          "output_type": "display_data",
          "data": {
            "text/plain": [
              "<PIL.Image.Image image mode=RGB size=45x21 at 0x7EFFFA6448B0>"
            ],
            "image/png": "[encoded data removed]"
          },
          "metadata": {}
        },
        {
          "output_type": "display_data",
          "data": {
            "text/plain": [
              "<PIL.Image.Image image mode=RGB size=51x24 at 0x7EFFFA4520B0>"
            ],
            "image/png": "[encoded data removed]"
          },
          "metadata": {}
        },
        {
          "output_type": "display_data",
          "data": {
            "text/plain": [
              "<PIL.Image.Image image mode=RGB size=33x47 at 0x7EFFFA451CF0>"
            ],
            "image/png": "[encoded data removed]"
          },
          "metadata": {}
        },
        {
          "output_type": "display_data",
          "data": {
            "text/plain": [
              "<PIL.Image.Image image mode=RGB size=66x30 at 0x7EFFFA4520B0>"
            ],
            "image/png": "[encoded data removed]"
          },
          "metadata": {}
        },
        {
          "output_type": "display_data",
          "data": {
            "text/plain": [
              "<PIL.Image.Image image mode=RGB size=52x28 at 0x7EFFFA451CF0>"
            ],
            "image/png": "[encoded data removed]"
          },
          "metadata": {}
        }
      ]
    },
    {
      "cell_type": "code",
      "source": [
        "\n",
        "#create csv\n",
        "# create csv files\n",
        "header = \"img_name,label,width,height,x0,y0,x1,y1,num_of_boxes,img_width,img_height,bb_x0,bb_y0,bb_x1,bb_y1\"\n",
        "\n",
        "\n",
        "fptrain = open(os.path.join(out_folder_processed, 'train_info.csv'), 'w')\n",
        "fptrain.write(header)\n",
        "fptest = open(os.path.join(out_folder_processed, 'test_info.csv'), 'w')\n",
        "fptest.write(header)\n",
        "\n"
      ],
      "metadata": {
        "colab": {
          "base_uri": "https://localhost:8080/"
        },
        "id": "OnAKl1Zsk_Av",
        "outputId": "148e0ff9-c300-4974-e6f8-e5801de08602"
      },
      "execution_count": null,
      "outputs": [
        {
          "output_type": "execute_result",
          "data": {
            "text/plain": [
              "97"
            ]
          },
          "metadata": {},
          "execution_count": 18
        }
      ]
    },
    {
      "cell_type": "code",
      "execution_count": null,
      "metadata": {
        "id": "ICqkf7LBAX6E"
      },
      "outputs": [],
      "source": [
        "cnt = 0\n",
        "for i in range(trainingSize):\n",
        "  position_list = []\n",
        "  bgChoice = random.choice(bgList)\n",
        "  numGood = random.randint(0,3)\n",
        "  numBad = random.randint(1,3)\n",
        "  for i in range(numGood):\n",
        "   bgChoice, _,_,_,_ = paste_synthetic_image(bgChoice, random.choice(goodList), position_list, min_distance = 50, max_iterations = 100)\n",
        "   \n",
        "\n",
        "  csv_info = {'label': np.empty(0),\n",
        "                'width': np.empty(0), 'height': np.empty(0), 'x0': np.empty(0), 'y0': np.empty(0),\n",
        "                'x1': np.empty(0), 'y1': np.empty(0), 'num_of_boxes': 0, 'img_width': 0,\n",
        "                'img_height': 0, 'bb_x0': 0, 'bb_y0': 0, 'bb_x1': 0, 'bb_y1': 0}\n",
        "  for i in range(numBad):\n",
        "    bgChoice, box_x0, box_y0, box_x1, box_y1  = paste_synthetic_image(bgChoice, random.choice(defectiveList), position_list, min_distance = 50, max_iterations = 100)\n",
        "    if box_x0 is not None and box_y0 is not None and box_x1 is not None and box_y1 is not None:\n",
        "            #cv2.rectangle(bgChoice, (xd1, yd1), (xd2, yd2), (0, 255, 0), 2)\n",
        "      csv_info['width'] = np.append(csv_info['width'], box_x1 - box_x0)\n",
        "      csv_info['height'] = np.append(csv_info['height'], box_y1 - box_y0)\n",
        "      csv_info['x0'] = np.append(csv_info['x0'], box_x0)\n",
        "      csv_info['y0'] = np.append(csv_info['y0'], box_y0)\n",
        "      csv_info['x1'] = np.append(csv_info['x1'], box_x1)\n",
        "      csv_info['y1'] = np.append(csv_info['y1'], box_y1)\n",
        "\n",
        "      csv_info['num_of_boxes'] = csv_info['num_of_boxes'] + 1\n",
        "      csv_info['img_width'] = outputResolution[0]\n",
        "      csv_info['img_height'] = outputResolution[1]\n",
        "      csv_info['bb_x0'] = min(csv_info['x0'])\n",
        "      csv_info['bb_y0'] = min(csv_info['y0'])\n",
        "      csv_info['bb_x1'] = max(csv_info['x1'])\n",
        "      csv_info['bb_y1'] = max(csv_info['y1'])\n",
        "\n",
        "      csv_info['label'] = np.append(csv_info['label'], 1.0)\n",
        "  fname = 'pebble_' + str(cnt) + '__' + str(box_x0) + '_' + str(box_y0) + '_' + str(box_x1) + '_' + str(box_y1) + '.jpg'\n",
        "\n",
        "  csv_line = '\\n' + fname\n",
        "\n",
        "  for i, item in enumerate(csv_info):\n",
        "      if item in {'label', 'width', 'height', 'x0', 'y0', 'x1', 'y1'}:\n",
        "          csv_line += ',\"' + str(csv_info[item]) + '\"'\n",
        "      else:\n",
        "          csv_line += ',' + str(csv_info[item])\n",
        "\n",
        "  cnt += 1\n",
        "  if(cnt % 100 == 0):\n",
        "    print(\"count = \",cnt)\n",
        "  bgChoice = image_transform_opencv(bgChoice)\n",
        "  #cv2_imshow(bgChoice)\n",
        "  cv2.imwrite(os.path.join(out_folder_train, fname),bgChoice)\n",
        "  fptrain.write(csv_line)\n",
        "fptrain.close();\n",
        "  "
      ]
    },
    {
      "cell_type": "code",
      "source": [],
      "metadata": {
        "id": "sTY3vf6GCFs-"
      },
      "execution_count": null,
      "outputs": []
    },
    {
      "cell_type": "code",
      "source": [
        "cnt = 0\n",
        "for i in range(testingSize):\n",
        "  position_list = []\n",
        "  bgChoice = random.choice(bgList)\n",
        "  numGood = random.randint(0,3)\n",
        "  numBad = random.randint(1,3)\n",
        "  for i in range(numGood):\n",
        "   bgChoice, _,_,_,_ = paste_synthetic_image(bgChoice, random.choice(goodList), position_list, min_distance = 50, max_iterations = 100)\n",
        "   \n",
        "\n",
        "  csv_info = {'label': np.empty(0),\n",
        "                'width': np.empty(0), 'height': np.empty(0), 'x0': np.empty(0), 'y0': np.empty(0),\n",
        "                'x1': np.empty(0), 'y1': np.empty(0), 'num_of_boxes': 0, 'img_width': 0,\n",
        "                'img_height': 0, 'bb_x0': 0, 'bb_y0': 0, 'bb_x1': 0, 'bb_y1': 0}\n",
        "  for i in range(numBad):\n",
        "    bgChoice, box_x0, box_y0, box_x1, box_y1  = paste_synthetic_image(bgChoice, random.choice(defectiveList), position_list, min_distance = 50, max_iterations = 100)\n",
        "    if box_x0 is not None and box_y0 is not None and box_x1 is not None and box_y1 is not None:\n",
        "            #cv2.rectangle(bgChoice, (xd1, yd1), (xd2, yd2), (0, 255, 0), 2)\n",
        "      csv_info['width'] = np.append(csv_info['width'], box_x1 - box_x0)\n",
        "      csv_info['height'] = np.append(csv_info['height'], box_y1 - box_y0)\n",
        "      csv_info['x0'] = np.append(csv_info['x0'], box_x0)\n",
        "      csv_info['y0'] = np.append(csv_info['y0'], box_y0)\n",
        "      csv_info['x1'] = np.append(csv_info['x1'], box_x1)\n",
        "      csv_info['y1'] = np.append(csv_info['y1'], box_y1)\n",
        "\n",
        "      csv_info['num_of_boxes'] = csv_info['num_of_boxes'] + 1\n",
        "      csv_info['img_width'] = outputResolution[0]\n",
        "      csv_info['img_height'] = outputResolution[1]\n",
        "      csv_info['bb_x0'] = min(csv_info['x0'])\n",
        "      csv_info['bb_y0'] = min(csv_info['y0'])\n",
        "      csv_info['bb_x1'] = max(csv_info['x1'])\n",
        "      csv_info['bb_y1'] = max(csv_info['y1'])\n",
        "\n",
        "      csv_info['label'] = np.append(csv_info['label'], 1.0)\n",
        "  fname = 'pebble_' + str(cnt) + '__' + str(box_x0) + '_' + str(box_y0) + '_' + str(box_x1) + '_' + str(box_y1) + '.jpg'\n",
        "\n",
        "  csv_line = '\\n' + fname\n",
        "\n",
        "  for i, item in enumerate(csv_info):\n",
        "      if item in {'label', 'width', 'height', 'x0', 'y0', 'x1', 'y1'}:\n",
        "          csv_line += ',\"' + str(csv_info[item]) + '\"'\n",
        "      else:\n",
        "          csv_line += ',' + str(csv_info[item])\n",
        "\n",
        "  cnt += 1\n",
        "  if(cnt % 100 == 0):\n",
        "    print(\"count = \",cnt)\n",
        "  cv2.imwrite(os.path.join(out_folder_test, fname),bgChoice)\n",
        "  fptest.write(csv_line)\n",
        "fptest.close();"
      ],
      "metadata": {
        "id": "c00wiRGMoRZY"
      },
      "execution_count": null,
      "outputs": []
    },
    {
      "cell_type": "code",
      "source": [
        "cd \"/content/drive/MyDrive/CE_Capstone_QA_2022-2023/DataCreation\"\n"
      ],
      "metadata": {
        "id": "32B-8D6yn220",
        "colab": {
          "base_uri": "https://localhost:8080/"
        },
        "outputId": "640221ab-2fd1-4614-88bc-69d5d24a1efa"
      },
      "execution_count": null,
      "outputs": [
        {
          "output_type": "stream",
          "name": "stdout",
          "text": [
            "/content/drive/MyDrive/CE_Capstone_QA_2022-2023/DataCreation\n"
          ]
        }
      ]
    },
    {
      "cell_type": "code",
      "source": [
        "!zip -r Pintobeans.zip PINTOBEANS_PEBBLES_PISTACHIO2//\n"
      ],
      "metadata": {
        "id": "9FubOdPDoaTX",
        "colab": {
          "base_uri": "https://localhost:8080/"
        },
        "outputId": "1ab14ddb-2d47-4a0c-fc8f-328e8c1dbae7"
      },
      "execution_count": null,
      "outputs": [
        {
          "output_type": "stream",
          "name": "stdout",
          "text": [
            "  adding: PINTOBEANS_PEBBLES_PISTACHIO2// (stored 0%)\n",
            "  adding: PINTOBEANS_PEBBLES_PISTACHIO2//test/ (stored 0%)\n",
            "  adding: PINTOBEANS_PEBBLES_PISTACHIO2//test/pebble_0__23_52_54_103.jpg (deflated 1%)\n",
            "  adding: PINTOBEANS_PEBBLES_PISTACHIO2//test/pebble_1__77_35_106_63.jpg (deflated 2%)\n",
            "  adding: PINTOBEANS_PEBBLES_PISTACHIO2//test/pebble_2__54_85_81_116.jpg (deflated 2%)\n",
            "  adding: PINTOBEANS_PEBBLES_PISTACHIO2//train/ (stored 0%)\n",
            "  adding: PINTOBEANS_PEBBLES_PISTACHIO2//train/pebble_0__4_171_34_201.jpg (deflated 2%)\n",
            "  adding: PINTOBEANS_PEBBLES_PISTACHIO2//train/pebble_1__16_52_61_98.jpg (deflated 1%)\n",
            "  adding: PINTOBEANS_PEBBLES_PISTACHIO2//train/pebble_2__9_197_29_219.jpg (deflated 1%)\n",
            "  adding: PINTOBEANS_PEBBLES_PISTACHIO2//train/pebble_3__47_173_87_209.jpg (deflated 2%)\n",
            "  adding: PINTOBEANS_PEBBLES_PISTACHIO2//train/pebble_4__9_139_56_180.jpg (deflated 1%)\n",
            "  adding: PINTOBEANS_PEBBLES_PISTACHIO2//train/pebble_5__116_54_138_79.jpg (deflated 1%)\n",
            "  adding: PINTOBEANS_PEBBLES_PISTACHIO2//train/pebble_6__31_151_62_182.jpg (deflated 2%)\n",
            "  adding: PINTOBEANS_PEBBLES_PISTACHIO2//train/pebble_7__100_167_121_187.jpg (deflated 1%)\n",
            "  adding: PINTOBEANS_PEBBLES_PISTACHIO2//train/pebble_8__12_39_38_65.jpg (deflated 3%)\n",
            "  adding: PINTOBEANS_PEBBLES_PISTACHIO2//train/pebble_9__93_193_122_223.jpg (deflated 2%)\n",
            "  adding: PINTOBEANS_PEBBLES_PISTACHIO2//train/pebble_10__44_34_85_56.jpg (deflated 1%)\n",
            "  adding: PINTOBEANS_PEBBLES_PISTACHIO2//train/pebble_11__22_125_43_145.jpg (deflated 2%)\n",
            "  adding: PINTOBEANS_PEBBLES_PISTACHIO2//train/pebble_12__37_132_86_181.jpg (deflated 1%)\n",
            "  adding: PINTOBEANS_PEBBLES_PISTACHIO2//train/pebble_13__46_126_68_148.jpg (deflated 1%)\n",
            "  adding: PINTOBEANS_PEBBLES_PISTACHIO2//train/pebble_14__18_5_62_53.jpg (deflated 1%)\n",
            "  adding: PINTOBEANS_PEBBLES_PISTACHIO2//train/pebble_15__61_8_76_29.jpg (deflated 1%)\n",
            "  adding: PINTOBEANS_PEBBLES_PISTACHIO2//train/pebble_16__72_43_100_71.jpg (deflated 1%)\n",
            "  adding: PINTOBEANS_PEBBLES_PISTACHIO2//train/pebble_17__79_34_121_71.jpg (deflated 1%)\n",
            "  adding: PINTOBEANS_PEBBLES_PISTACHIO2//train/pebble_18__22_10_56_44.jpg (deflated 1%)\n",
            "  adding: PINTOBEANS_PEBBLES_PISTACHIO2//train/pebble_19__74_58_129_109.jpg (deflated 1%)\n",
            "  adding: PINTOBEANS_PEBBLES_PISTACHIO2//train/pebble_20__112_83_158_129.jpg (deflated 1%)\n",
            "  adding: PINTOBEANS_PEBBLES_PISTACHIO2//train/pebble_21__32_88_48_103.jpg (deflated 2%)\n",
            "  adding: PINTOBEANS_PEBBLES_PISTACHIO2//train/pebble_22__96_179_119_202.jpg (deflated 1%)\n",
            "  adding: PINTOBEANS_PEBBLES_PISTACHIO2//train/pebble_23__100_105_126_131.jpg (deflated 1%)\n",
            "  adding: PINTOBEANS_PEBBLES_PISTACHIO2//train/pebble_24__115_56_140_80.jpg (deflated 1%)\n",
            "  adding: PINTOBEANS_PEBBLES_PISTACHIO2//train/pebble_25__1_101_22_139.jpg (deflated 1%)\n",
            "  adding: PINTOBEANS_PEBBLES_PISTACHIO2//train/pebble_26__116_81_162_117.jpg (deflated 1%)\n",
            "  adding: PINTOBEANS_PEBBLES_PISTACHIO2//train/pebble_27__78_179_124_223.jpg (deflated 2%)\n",
            "  adding: PINTOBEANS_PEBBLES_PISTACHIO2//train/pebble_28__114_124_140_150.jpg (deflated 1%)\n",
            "  adding: PINTOBEANS_PEBBLES_PISTACHIO2//train/pebble_29__29_70_60_101.jpg (deflated 1%)\n",
            "  adding: PINTOBEANS_PEBBLES_PISTACHIO2//processed/ (stored 0%)\n",
            "  adding: PINTOBEANS_PEBBLES_PISTACHIO2//processed/train_info.csv (deflated 67%)\n",
            "  adding: PINTOBEANS_PEBBLES_PISTACHIO2//processed/test_info.csv (deflated 50%)\n"
          ]
        }
      ]
    }
  ],
  "metadata": {
    "colab": {
      "provenance": []
    },
    "kernelspec": {
      "display_name": "Python 3",
      "name": "python3"
    },
    "language_info": {
      "name": "python"
    }
  },
  "nbformat": 4,
  "nbformat_minor": 0
}